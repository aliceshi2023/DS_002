{
  "nbformat": 4,
  "nbformat_minor": 0,
  "metadata": {
    "colab": {
      "name": "Copy of Copy of CodeSanityChecker.ipynb",
      "provenance": [],
      "collapsed_sections": [],
      "include_colab_link": true
    },
    "kernelspec": {
      "name": "python3",
      "display_name": "Python 3"
    },
    "language_info": {
      "name": "python"
    }
  },
  "cells": [
    {
      "cell_type": "markdown",
      "metadata": {
        "id": "view-in-github",
        "colab_type": "text"
      },
      "source": [
        "<a href=\"https://colab.research.google.com/github/aliceshi2023/DS_002/blob/main/CodeSanityChecker.ipynb\" target=\"_parent\"><img src=\"https://colab.research.google.com/assets/colab-badge.svg\" alt=\"Open In Colab\"/></a>"
      ]
    },
    {
      "cell_type": "markdown",
      "source": [
        "# DS002.9.1 Code sanity checker\n",
        "\n",
        "Use this notebook to verify that you can import your code from the repository. \n",
        "\n",
        "\n",
        "\n",
        "---\n"
      ],
      "metadata": {
        "id": "ae1vfPY-wiov"
      }
    },
    {
      "cell_type": "markdown",
      "source": [
        "# Imports\n",
        "\n",
        "Import your \"by scratch\" code first. Your repo should contain the following files:\n",
        "\n",
        "```bash\n",
        "byscratch\n",
        "├── gradient_descent.py\n",
        "├── k_nearest_neighbors.py\n",
        "├── linear_algebra.py\n",
        "├── probability.py\n",
        "└── statistics.py\n",
        "```\n",
        "\n",
        "## Changes to the code from our textbook\n",
        "These changes should make things easier\n",
        "\n",
        "1. put imports at the top\n",
        "1. used relative imports to avoid namespace problems\n",
        "1. remove the `main()` loop\n",
        "\n",
        "# Please update your repository to contain these files. Find them in this new repository:\n",
        "\n",
        "https://github.com/douglasgoodwin/byscratch.git"
      ],
      "metadata": {
        "id": "ateEVKCMTwvg"
      }
    },
    {
      "cell_type": "markdown",
      "source": [
        "# Clone your code into a directory called \"byscratch\"\n",
        "\n",
        "# Be sure to use use YOUR REPO, and not mine ;)"
      ],
      "metadata": {
        "id": "VmcvHtp8Z3CB"
      }
    },
    {
      "cell_type": "code",
      "source": [
        "# Clone your code into a directory called \"byscratch\"\n",
        "# \n",
        "! rm -Rf byscratch ;\n",
        "!git clone https://github.com/angelessoriano1/byscratch.git byscratch"
      ],
      "metadata": {
        "colab": {
          "base_uri": "https://localhost:8080/"
        },
        "id": "d-jGZ-Qm7LP9",
        "outputId": "615d8759-0654-4054-90ae-c30e8336625a"
      },
      "execution_count": null,
      "outputs": [
        {
          "output_type": "stream",
          "name": "stdout",
          "text": [
            "Cloning into 'byscratch'...\n",
            "remote: Enumerating objects: 42, done.\u001b[K\n",
            "remote: Counting objects: 100% (42/42), done.\u001b[K\n",
            "remote: Compressing objects: 100% (39/39), done.\u001b[K\n",
            "remote: Total 42 (delta 14), reused 0 (delta 0), pack-reused 0\u001b[K\n",
            "Unpacking objects: 100% (42/42), done.\n"
          ]
        }
      ]
    },
    {
      "cell_type": "markdown",
      "source": [
        "# Import Your code"
      ],
      "metadata": {
        "id": "OQU5XMrUaAeU"
      }
    },
    {
      "cell_type": "code",
      "source": [
        "# Import Your code\n",
        "from byscratch.linear_algebra import Vector, Matrix\n",
        "from byscratch.linear_algebra import make_matrix\n",
        "from byscratch.linear_algebra import sum_of_squares\n",
        "from byscratch.linear_algebra import dot\n",
        "from byscratch.linear_algebra import subtract\n",
        "from byscratch.linear_algebra import magnitude\n",
        "from byscratch.linear_algebra import scalar_multiply\n",
        "from byscratch.linear_algebra import vector_mean\n",
        "from byscratch.linear_algebra import distance\n",
        "from byscratch.linear_algebra import add\n",
        "\n",
        "from byscratch.statistics import correlation\n",
        "from byscratch.statistics import standard_deviation\n",
        "from byscratch.statistics import median\n",
        "from byscratch.statistics import mean\n",
        "from byscratch.statistics import de_mean\n",
        "from byscratch.statistics import standard_deviation\n",
        "\n",
        "from byscratch.gradient_descent import gradient_step\n",
        "\n",
        "from byscratch.probability import inverse_normal_cdf"
      ],
      "metadata": {
        "id": "vjFd1DHGZ-7A"
      },
      "execution_count": null,
      "outputs": []
    },
    {
      "cell_type": "code",
      "source": [
        "# python library imports\n",
        "import random, datetime, re, csv, math, enum\n",
        "from collections import defaultdict, Counter\n",
        "from typing import Tuple, List, NamedTuple, Optional, Callable\n",
        "from typing import TypeVar, List, Iterator\n",
        "\n",
        "# external code\n",
        "from dateutil.parser import parse\n",
        "import tqdm\n",
        "\n",
        "# pyplot configs\n",
        "import seaborn as sns\n",
        "from matplotlib import pyplot as plt\n",
        "\n",
        "# font\n",
        "plt.rcParams.update({'font.size': 8})\n",
        "\n",
        "# reset the default figsize value\n",
        "plt.rcParams[\"figure.figsize\"] = plt.rcParamsDefault[\"figure.figsize\"]\n",
        "\n",
        "# 144 is good for a high-resolution display. Try 100 if it's too big\n",
        "plt.rcParams[\"figure.dpi\"] = (80)"
      ],
      "metadata": {
        "id": "-CFhLhnD1LHN"
      },
      "execution_count": null,
      "outputs": []
    },
    {
      "cell_type": "markdown",
      "source": [
        "# Try the data\n"
      ],
      "metadata": {
        "id": "GfIw_IS9aFvV"
      }
    },
    {
      "cell_type": "code",
      "source": [
        "# show the first two rows: header and data\n",
        "!head -1 /content/byscratch/data/adult_9ksample.csv > cols.txt ;\n",
        "# !cat cols.txt\n",
        "\n",
        "with open(\"cols.txt\") as f:\n",
        "    for line in f:\n",
        "        cols = line.strip().split(',')\n",
        "\n",
        "print(\"| i | col |\")\n",
        "print(\"|-- |---- |\")\n",
        "for i,c in enumerate(cols):\n",
        "  print(f\"| {i} | {c} |\")"
      ],
      "metadata": {
        "colab": {
          "base_uri": "https://localhost:8080/"
        },
        "id": "0tJrcit7FK45",
        "outputId": "8142a33d-1173-4638-b336-f5693670ed2d"
      },
      "execution_count": null,
      "outputs": [
        {
          "output_type": "stream",
          "name": "stdout",
          "text": [
            "| i | col |\n",
            "|-- |---- |\n",
            "| 0 |  |\n",
            "| 1 | age |\n",
            "| 2 | workclass |\n",
            "| 3 | fnlwgt |\n",
            "| 4 | education |\n",
            "| 5 | educational-num |\n",
            "| 6 | marital-status |\n",
            "| 7 | occupation |\n",
            "| 8 | relationship |\n",
            "| 9 | race |\n",
            "| 10 | gender |\n",
            "| 11 | capital-gain |\n",
            "| 12 | capital-loss |\n",
            "| 13 | hours-per-week |\n",
            "| 14 | native-country |\n",
            "| 15 | income |\n"
          ]
        }
      ]
    },
    {
      "cell_type": "code",
      "source": [
        "# Get the shape of this dataset\n",
        "filename = \"/content/byscratch/data/adult_9ksample.csv\"\n",
        "with open(filename) as f:\n",
        "    numlines = sum(1 for line in f)\n",
        "\n",
        "numlines"
      ],
      "metadata": {
        "colab": {
          "base_uri": "https://localhost:8080/"
        },
        "id": "1LJyNTYaPWsR",
        "outputId": "19285471-a4e5-47ea-e24d-0eeab45ed13f"
      },
      "execution_count": null,
      "outputs": [
        {
          "output_type": "execute_result",
          "data": {
            "text/plain": [
              "9001"
            ]
          },
          "metadata": {},
          "execution_count": 26
        }
      ]
    },
    {
      "cell_type": "code",
      "source": [
        "# Load up a large data structure\n",
        "data_dict = csv.DictReader(open(filename))\n",
        "\n",
        "# Let's do some frequency counting\n",
        "from collections import Counter\n",
        "\n",
        "# race, gender, occupation, hours worked per week, and education\n",
        "races = []\n",
        "genders = []\n",
        "incomes = []\n",
        "educationalnum = []\n",
        "occupations = []\n",
        "hoursperweek = []\n",
        "\n",
        "for row in data_dict:\n",
        "    hours = int(row[\"hours-per-week\"])\n",
        "    hoursperweek.append(hours)\n",
        "\n",
        "    race = str(row[\"race\"])\n",
        "    races.append(race)\n",
        "\n",
        "    gender = str(row[\"gender\"])\n",
        "    genders.append(gender)\n",
        "\n",
        "    income = str(row[\"income\"])\n",
        "    incomes.append(income)\n",
        "\n",
        "    occupation = str(row[\"occupation\"])\n",
        "    occupations.append(occupation)\n",
        "\n",
        "assert len(hoursperweek) == len(races) == len(genders) == len(incomes) == len(occupations)"
      ],
      "metadata": {
        "id": "I0NseglPQ4Ye"
      },
      "execution_count": null,
      "outputs": []
    },
    {
      "cell_type": "code",
      "source": [
        "# SANITY CHECK Use your code to get the mean & median hours per week\n",
        "print(f\"The mean hours-per-week is {mean(hoursperweek)}, median is {median(hoursperweek)}\")"
      ],
      "metadata": {
        "colab": {
          "base_uri": "https://localhost:8080/"
        },
        "id": "E85dW_4wTiJ7",
        "outputId": "d27cc002-cdf8-4852-9420-0420c8cffa88"
      },
      "execution_count": null,
      "outputs": [
        {
          "output_type": "stream",
          "name": "stdout",
          "text": [
            "The mean hours-per-week is 40.99366666666667, median is 40.0\n"
          ]
        }
      ]
    },
    {
      "cell_type": "code",
      "source": [
        "# How many unique occupations?\n",
        "o = Counter(occupations)\n",
        "# occupations\n",
        "\n",
        "sns.barplot(\n",
        "    y=list(o.keys()),\n",
        "    x=list(o.values()),\n",
        "    orient='h')"
      ],
      "metadata": {
        "colab": {
          "base_uri": "https://localhost:8080/",
          "height": 362
        },
        "id": "tMBIHyF6VACk",
        "outputId": "4fa13a6d-bb05-4f80-e710-104b3aff858b"
      },
      "execution_count": null,
      "outputs": [
        {
          "output_type": "execute_result",
          "data": {
            "text/plain": [
              "<matplotlib.axes._subplots.AxesSubplot at 0x7f00059daf10>"
            ]
          },
          "metadata": {},
          "execution_count": 29
        },
        {
          "output_type": "display_data",
          "data": {
            "text/plain": [
              "<Figure size 512x384 with 1 Axes>"
            ],
            "image/png": "[encoded data removed]"
          },
          "metadata": {
            "needs_background": "light"
          }
        }
      ]
    },
    {
      "cell_type": "code",
      "source": [
        "# distribution of incomes?\n",
        "i = Counter(incomes)\n",
        "\n",
        "sns.barplot(\n",
        "    x=list(i.keys()),\n",
        "    y=list(i.values()),\n",
        "    orient='v')"
      ],
      "metadata": {
        "colab": {
          "base_uri": "https://localhost:8080/",
          "height": 362
        },
        "id": "lm79w9WeWvmj",
        "outputId": "3b457528-0650-435d-925c-c583594daabf"
      },
      "execution_count": null,
      "outputs": [
        {
          "output_type": "execute_result",
          "data": {
            "text/plain": [
              "<matplotlib.axes._subplots.AxesSubplot at 0x7f0005abaf10>"
            ]
          },
          "metadata": {},
          "execution_count": 30
        },
        {
          "output_type": "display_data",
          "data": {
            "text/plain": [
              "<Figure size 512x384 with 1 Axes>"
            ],
            "image/png": "[encoded data removed]"
          },
          "metadata": {
            "needs_background": "light"
          }
        }
      ]
    },
    {
      "cell_type": "code",
      "source": [
        "# Distribution of race?\n",
        "r = Counter(races)\n",
        "\n",
        "sns.barplot(\n",
        "    x=list(r.keys()),\n",
        "    y=list(r.values()),\n",
        "    orient='v')"
      ],
      "metadata": {
        "colab": {
          "base_uri": "https://localhost:8080/",
          "height": 362
        },
        "id": "aPiHcaZDXTu6",
        "outputId": "7d629512-f159-4a3c-95c9-bc5e6463c6c5"
      },
      "execution_count": null,
      "outputs": [
        {
          "output_type": "execute_result",
          "data": {
            "text/plain": [
              "<matplotlib.axes._subplots.AxesSubplot at 0x7f000561e210>"
            ]
          },
          "metadata": {},
          "execution_count": 31
        },
        {
          "output_type": "display_data",
          "data": {
            "text/plain": [
              "<Figure size 512x384 with 1 Axes>"
            ],
            "image/png": "[encoded data removed]"
          },
          "metadata": {
            "needs_background": "light"
          }
        }
      ]
    },
    {
      "cell_type": "code",
      "source": [
        "# distribution of gender?\n",
        "g = Counter(genders)\n",
        "\n",
        "sns.barplot(\n",
        "    x=list(g.keys()),\n",
        "    y=list(g.values()),\n",
        "    orient='v')"
      ],
      "metadata": {
        "colab": {
          "base_uri": "https://localhost:8080/",
          "height": 362
        },
        "id": "QqfTqmkXXp0N",
        "outputId": "29dc726f-0487-4238-a26f-cb396cc18f58"
      },
      "execution_count": null,
      "outputs": [
        {
          "output_type": "execute_result",
          "data": {
            "text/plain": [
              "<matplotlib.axes._subplots.AxesSubplot at 0x7f00055abf50>"
            ]
          },
          "metadata": {},
          "execution_count": 32
        },
        {
          "output_type": "display_data",
          "data": {
            "text/plain": [
              "<Figure size 512x384 with 1 Axes>"
            ],
            "image/png": "[encoded data removed]"
          },
          "metadata": {
            "needs_background": "light"
          }
        }
      ]
    }
  ]
}